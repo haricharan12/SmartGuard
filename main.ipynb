{
  "nbformat": 4,
  "nbformat_minor": 0,
  "metadata": {
    "colab": {
      "provenance": [],
      "authorship_tag": "ABX9TyOuN68BDz/+Sb3xSIcNQPeO"
    },
    "kernelspec": {
      "name": "python3",
      "display_name": "Python 3"
    },
    "language_info": {
      "name": "python"
    }
  },
  "cells": [
    {
      "cell_type": "code",
      "execution_count": 10,
      "metadata": {
        "id": "maFkLXzIhItH"
      },
      "outputs": [],
      "source": [
        "from sklearn.svm import SVC\n",
        "from sklearn.feature_extraction.text import TfidfVectorizer\n",
        "from sklearn.model_selection import train_test_split\n",
        "from sklearn.metrics import classification_report"
      ]
    },
    {
      "cell_type": "code",
      "source": [
        "from sklearn.feature_extraction.text import CountVectorizer\n",
        "from sklearn.model_selection import train_test_split\n",
        "from sklearn.naive_bayes import MultinomialNB\n",
        "from sklearn.metrics import classification_report\n",
        "\n",
        "# Expanded dataset with more diverse examples\n",
        "emails = [\n",
        "    \"Dear user, your account has been compromised, please reset your password\",\n",
        "    \"You have won a lottery! Click here to claim\",\n",
        "    \"Please confirm your email address for account update\",\n",
        "    \"This is to inform you of a scheduled server maintenance\",\n",
        "    \"Urgent: Your account will be closed unless action is taken\",\n",
        "    \"Meeting scheduled at 3 PM today\",\n",
        "    \"Your package delivery status\",\n",
        "    \"Alert: Unusual sign-in activity detected on your account\",\n",
        "    \"Congratulations! You've been selected for a prize\",\n",
        "    \"Important: Verify your account details immediately\",\n",
        "    \"Notice of policy change from your bank\",\n",
        "    \"Free vacation tickets for exclusive customers\",\n",
        "    \"Security alert: New login from unknown device\",\n",
        "    \"Team meeting agenda and notes\",\n",
        "    \"Invoice for your recent purchase\",\n",
        "    \"Update your payment information\"\n",
        "]\n",
        "labels = [1, 1, 1, 0, 1, 0, 0, 1, 1, 1, 1, 1, 1, 0, 0, 0]  # 1 for phishing, 0 for legitimate\n",
        "\n",
        "# Splitting the dataset into training and testing sets\n",
        "X_train, X_test, y_train, y_test = train_test_split(emails, labels, test_size=0.2, random_state=42)\n",
        "\n",
        "# Feature extraction using Bag-of-Words model\n",
        "vectorizer = CountVectorizer()\n",
        "X_train_counts = vectorizer.fit_transform(X_train)\n",
        "X_test_counts = vectorizer.transform(X_test)\n",
        "\n",
        "# Training a Multinomial Naive Bayes model\n",
        "model = MultinomialNB()\n",
        "model.fit(X_train_counts, y_train)\n",
        "\n",
        "# Predicting and evaluating the model\n",
        "y_pred = model.predict(X_test_counts)\n",
        "report = classification_report(y_test, y_pred, target_names=['Legitimate', 'Phishing'])\n",
        "\n",
        "report\n"
      ],
      "metadata": {
        "colab": {
          "base_uri": "https://localhost:8080/",
          "height": 54
        },
        "id": "OnN-XoMekNQI",
        "outputId": "b736fa34-8548-4e3f-8c79-dac518c8a955"
      },
      "execution_count": 11,
      "outputs": [
        {
          "output_type": "execute_result",
          "data": {
            "text/plain": [
              "'              precision    recall  f1-score   support\\n\\n  Legitimate       0.50      0.50      0.50         2\\n    Phishing       0.50      0.50      0.50         2\\n\\n    accuracy                           0.50         4\\n   macro avg       0.50      0.50      0.50         4\\nweighted avg       0.50      0.50      0.50         4\\n'"
            ],
            "application/vnd.google.colaboratory.intrinsic+json": {
              "type": "string"
            }
          },
          "metadata": {},
          "execution_count": 11
        }
      ]
    },
    {
      "cell_type": "code",
      "source": [
        "from sklearn.feature_extraction.text import TfidfVectorizer\n",
        "from sklearn.naive_bayes import MultinomialNB\n",
        "from sklearn.metrics import classification_report\n",
        "from sklearn.model_selection import train_test_split\n",
        "\n",
        "# Expanded dataset\n",
        "emails = [\n",
        "    \"Dear user, your account has been compromised, please reset your password\",\n",
        "    \"You have won a lottery! Click here to claim\",\n",
        "    \"Please confirm your email address for account update\",\n",
        "    \"This is to inform you of a scheduled server maintenance\",\n",
        "    \"Urgent: Your account will be closed unless action is taken\",\n",
        "    \"Meeting scheduled at 3 PM today\",\n",
        "    \"Your package delivery status\",\n",
        "    \"Alert: Unusual sign-in activity detected on your account\",\n",
        "    \"Congratulations! You've been selected for a prize\",\n",
        "    \"Important: Verify your account details immediately\",\n",
        "    \"Notice of policy change from your bank\",\n",
        "    \"Free vacation tickets for exclusive customers\",\n",
        "    \"Security alert: New login from unknown device\",\n",
        "    \"Team meeting agenda and notes\",\n",
        "    \"Invoice for your recent purchase\",\n",
        "    \"Update your payment information\"\n",
        "]\n",
        "labels = [1, 1, 1, 0, 1, 0, 0, 1, 1, 1, 1, 1, 1, 0, 0, 0]  # 1 for phishing, 0 for legitimate\n",
        "\n",
        "# Splitting the dataset\n",
        "X_train, X_test, y_train, y_test = train_test_split(emails, labels, test_size=0.2, random_state=42)\n",
        "\n",
        "# Feature extraction using TF-IDF\n",
        "tfidf_vectorizer = TfidfVectorizer()\n",
        "X_train_tfidf = tfidf_vectorizer.fit_transform(X_train)\n",
        "X_test_tfidf = tfidf_vectorizer.transform(X_test)\n",
        "\n",
        "# Training a Multinomial Naive Bayes model\n",
        "model_tfidf = MultinomialNB()\n",
        "model_tfidf.fit(X_train_tfidf, y_train)\n",
        "\n",
        "# Predicting and evaluating the model\n",
        "y_pred_tfidf = model_tfidf.predict(X_test_tfidf)\n",
        "report_tfidf = classification_report(y_test, y_pred_tfidf, target_names=['Legitimate', 'Phishing'])\n",
        "\n",
        "report_tfidf\n"
      ],
      "metadata": {
        "colab": {
          "base_uri": "https://localhost:8080/",
          "height": 183
        },
        "id": "iaA0qlpDkDdL",
        "outputId": "f764a951-8f1c-49a2-dbc8-99b80967afd7"
      },
      "execution_count": 12,
      "outputs": [
        {
          "output_type": "stream",
          "name": "stderr",
          "text": [
            "/usr/local/lib/python3.10/dist-packages/sklearn/metrics/_classification.py:1344: UndefinedMetricWarning: Precision and F-score are ill-defined and being set to 0.0 in labels with no predicted samples. Use `zero_division` parameter to control this behavior.\n",
            "  _warn_prf(average, modifier, msg_start, len(result))\n",
            "/usr/local/lib/python3.10/dist-packages/sklearn/metrics/_classification.py:1344: UndefinedMetricWarning: Precision and F-score are ill-defined and being set to 0.0 in labels with no predicted samples. Use `zero_division` parameter to control this behavior.\n",
            "  _warn_prf(average, modifier, msg_start, len(result))\n",
            "/usr/local/lib/python3.10/dist-packages/sklearn/metrics/_classification.py:1344: UndefinedMetricWarning: Precision and F-score are ill-defined and being set to 0.0 in labels with no predicted samples. Use `zero_division` parameter to control this behavior.\n",
            "  _warn_prf(average, modifier, msg_start, len(result))\n"
          ]
        },
        {
          "output_type": "execute_result",
          "data": {
            "text/plain": [
              "'              precision    recall  f1-score   support\\n\\n  Legitimate       0.00      0.00      0.00         2\\n    Phishing       0.50      1.00      0.67         2\\n\\n    accuracy                           0.50         4\\n   macro avg       0.25      0.50      0.33         4\\nweighted avg       0.25      0.50      0.33         4\\n'"
            ],
            "application/vnd.google.colaboratory.intrinsic+json": {
              "type": "string"
            }
          },
          "metadata": {},
          "execution_count": 12
        }
      ]
    },
    {
      "cell_type": "code",
      "source": [
        "# Simulated dataset with more variety\n",
        "emails = [\n",
        "    \"Urgent: Confirm your account details to avoid suspension\",\n",
        "    \"Exclusive offer just for you, claim your prize now\",\n",
        "    \"Reminder: Your subscription is about to expire\",\n",
        "    \"Schedule for the upcoming project meeting\",\n",
        "    \"Security notice: New device logged into your account\",\n",
        "    \"Your invoice for recent cloud services purchase\",\n",
        "    \"Action required: Unusual activity detected in your account\",\n",
        "    \"Happy holidays: Special discount on your next purchase\",\n",
        "    \"Critical security patch for your operating system\",\n",
        "    \"Your order has been shipped, track it online\",\n",
        "    \"Suspicious sign-in attempt, was this you?\",\n",
        "    \"Updated privacy policy and terms of service\",\n",
        "    \"Win a free trip to Hawaii, enter the contest now\",\n",
        "    \"Your feedback is important, complete this survey\",\n",
        "    \"Payment successfully processed for your recent order\",\n",
        "    \"Warning: Potential malware detected in your system\"\n",
        "]\n",
        "labels = [1, 1, 0, 0, 1, 0, 1, 0, 0, 0, 1, 0, 1, 0, 0, 1]  # 1 for phishing, 0 for legitimate\n",
        "\n",
        "# Splitting the dataset\n",
        "X_train, X_test, y_train, y_test = train_test_split(emails, labels, test_size=0.2, random_state=42)\n",
        "\n",
        "# Feature extraction using TF-IDF\n",
        "tfidf_vectorizer = TfidfVectorizer()\n",
        "X_train_tfidf = tfidf_vectorizer.fit_transform(X_train)\n",
        "X_test_tfidf = tfidf_vectorizer.transform(X_test)\n",
        "\n",
        "# Training a Support Vector Machine (SVM) model\n",
        "svm_model = SVC(kernel='linear', probability=True)\n",
        "svm_model.fit(X_train_tfidf, y_train)\n",
        "\n",
        "# Predicting and evaluating the model\n",
        "y_pred_svm = svm_model.predict(X_test_tfidf)\n",
        "report_svm = classification_report(y_test, y_pred_svm, target_names=['Legitimate', 'Phishing'])\n",
        "\n",
        "report_svm"
      ],
      "metadata": {
        "colab": {
          "base_uri": "https://localhost:8080/",
          "height": 54
        },
        "id": "qVgr7lZEhMpR",
        "outputId": "46c540c8-25ac-483e-ed2a-2f09c6b0ef24"
      },
      "execution_count": 13,
      "outputs": [
        {
          "output_type": "execute_result",
          "data": {
            "text/plain": [
              "'              precision    recall  f1-score   support\\n\\n  Legitimate       0.67      1.00      0.80         2\\n    Phishing       1.00      0.50      0.67         2\\n\\n    accuracy                           0.75         4\\n   macro avg       0.83      0.75      0.73         4\\nweighted avg       0.83      0.75      0.73         4\\n'"
            ],
            "application/vnd.google.colaboratory.intrinsic+json": {
              "type": "string"
            }
          },
          "metadata": {},
          "execution_count": 13
        }
      ]
    },
    {
      "cell_type": "code",
      "source": [
        "import matplotlib.pyplot as plt\n",
        "\n",
        "# Accuracies for each model\n",
        "models = [\"Logistic Regression\\n(Bag-of-Words)\", \"Multinomial Naive Bayes\\n(TF-IDF)\", \"SVM\\n(TF-IDF)\"]\n",
        "accuracies = [0.50, 0.50, 0.75]  # Accuracies for each model\n",
        "\n",
        "# Creating the line graph\n",
        "plt.figure(figsize=(10, 6))\n",
        "plt.plot(models, accuracies, marker='o', color='b', linestyle='-', linewidth=2, markersize=8)\n",
        "plt.xlabel('Model and Feature Extraction Technique')\n",
        "plt.ylabel('Accuracy')\n",
        "plt.title('Comparison of Phishing Detection Model Accuracies Over Time')\n",
        "plt.ylim([0, 1])  # Setting y-axis limit from 0 to 1 (0% to 100%)\n",
        "plt.grid(True)\n",
        "\n",
        "# Show the graph\n",
        "plt.show()\n"
      ],
      "metadata": {
        "colab": {
          "base_uri": "https://localhost:8080/",
          "height": 580
        },
        "id": "2DaV61pQjgT7",
        "outputId": "857e5628-cfb3-4de8-b992-a9beb99afc2e"
      },
      "execution_count": 14,
      "outputs": [
        {
          "output_type": "display_data",
          "data": {
            "text/plain": [
              "<Figure size 1000x600 with 1 Axes>"
            ],
            "image/png": "[encoded data removed]"
          },
          "metadata": {}
        }
      ]
    },
    {
      "cell_type": "code",
      "source": [
        "import os\n",
        "\n",
        "def classify_email_from_file(file_path, vectorizer, model):\n",
        "    \"\"\"\n",
        "    Reads an email from a text file, preprocesses it, and classifies it as phishing or legitimate.\n",
        "\n",
        "    Parameters:\n",
        "    - file_path: Path to the text file containing the email.\n",
        "    - vectorizer: The TF-IDF vectorizer used to transform the text data.\n",
        "    - model: The trained SVM model for classification.\n",
        "\n",
        "    Returns:\n",
        "    - Classification result as a string.\n",
        "    \"\"\"\n",
        "\n",
        "    # Check if the file exists\n",
        "    if not os.path.exists(file_path):\n",
        "        return \"Error: File does not exist.\"\n",
        "\n",
        "    # Read the content of the file\n",
        "    with open(file_path, 'r') as file:\n",
        "        email_content = file.read()\n",
        "\n",
        "    # Transform the email content using the trained TF-IDF vectorizer\n",
        "    email_tfidf = vectorizer.transform([email_content])\n",
        "\n",
        "    # Predict using the trained model\n",
        "    prediction = model.predict(email_tfidf)\n",
        "\n",
        "    # Return the result\n",
        "    return \"Phishing Email\" if prediction[0] == 1 else \"Legitimate Email\"\n",
        "\n",
        "\n",
        "\n"
      ],
      "metadata": {
        "id": "spCvEVRMpBK_"
      },
      "execution_count": 15,
      "outputs": []
    },
    {
      "cell_type": "code",
      "source": [
        "# Path to your saved email file\n",
        "file_path = \"/content/sample_email.txt\"\n",
        "\n",
        "# Call the function with the file path, TF-IDF vectorizer, and SVM model\n",
        "result = classify_email_from_file(file_path, tfidf_vectorizer, svm_model)\n",
        "print(result)\n"
      ],
      "metadata": {
        "colab": {
          "base_uri": "https://localhost:8080/"
        },
        "id": "lhzLL_4xrVLM",
        "outputId": "a40a0c40-9edf-4700-e508-09253b4ef3fa"
      },
      "execution_count": 16,
      "outputs": [
        {
          "output_type": "stream",
          "name": "stdout",
          "text": [
            "Legitimate Email\n"
          ]
        }
      ]
    }
  ]
}
